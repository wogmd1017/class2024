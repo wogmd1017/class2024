{
  "nbformat": 4,
  "nbformat_minor": 0,
  "metadata": {
    "colab": {
      "provenance": [],
      "include_colab_link": true
    },
    "kernelspec": {
      "name": "python3",
      "display_name": "Python 3"
    },
    "language_info": {
      "name": "python"
    }
  },
  "cells": [
    {
      "cell_type": "markdown",
      "metadata": {
        "id": "view-in-github",
        "colab_type": "text"
      },
      "source": [
        "<a href=\"https://colab.research.google.com/github/wogmd1017/class2024/blob/main/2%ED%95%99%EA%B8%B0_%EB%AC%B8%EC%A0%9C_%ED%92%80%EC%9D%B4.ipynb\" target=\"_parent\"><img src=\"https://colab.research.google.com/assets/colab-badge.svg\" alt=\"Open In Colab\"/></a>"
      ]
    },
    {
      "cell_type": "markdown",
      "metadata": {
        "id": "R4YeCjM0xOmo"
      },
      "source": [
        "1. 비교연산1(<)<p>\n",
        "두 정수(a,b)를 입력받아 a가 b보다 작으면 True, 그 이외에는 False를 출력하는 문제입니다.<p>\n",
        "비교연산자 < 를 사용하는 문제로 비교연산자의 결과를 출력하면 됩니다.<p>"
      ]
    },
    {
      "cell_type": "code",
      "metadata": {
        "id": "eDTPGZ20xQnK"
      },
      "source": [
        "a,b=input().split()\n",
        "a=int(a)\n",
        "b=int(b)\n",
        "print(a<b) #짤림 방지용 주석입니다."
      ],
      "execution_count": null,
      "outputs": []
    },
    {
      "cell_type": "markdown",
      "metadata": {
        "id": "HhBi6kK3xUAw"
      },
      "source": [
        "1. 비교연산2(>)<p>\n",
        "두 정수(a,b)를 입력받아 a가 b보다 크면 True, 그 이외의 경우에는 False를 출력하는 문제입니다.<p>\n",
        "비교연산자 > 를 이용하는 문제입니다."
      ]
    },
    {
      "cell_type": "code",
      "metadata": {
        "id": "5Nll--vuzsaL"
      },
      "source": [
        "a,b=input().split()\n",
        "a=int(a)\n",
        "b=int(b)\n",
        "print(a>b)"
      ],
      "execution_count": null,
      "outputs": []
    },
    {
      "cell_type": "markdown",
      "metadata": {
        "id": "wAOp61o60DZs"
      },
      "source": [
        "1. 비교연산3(<=)<p>\n",
        "두 정수(a,b)를 입력받아 a의 값이 b의 값보다 작거나 같으면 True, 그 이외의 경우에는 False를 출력하는 문제입니다.<p>\n",
        "비교연산자 <= 를 사용하는 문제입니다."
      ]
    },
    {
      "cell_type": "code",
      "metadata": {
        "id": "4oWgMgUj0qr9"
      },
      "source": [
        "a=int(input())\n",
        "b=int(input())\n",
        "print(a<=b)"
      ],
      "execution_count": null,
      "outputs": []
    },
    {
      "cell_type": "markdown",
      "metadata": {
        "id": "a0JUwbeff_Vd"
      },
      "source": [
        "1. 비교연산4(>=)<p>\n",
        "두 정수(a,b)를 입력받아 a의 값이 b의 값보다 크거나 같으면 True, 그 이외의 경우에는 False를 출력하는 문제입니다.<p>\n",
        "비교연산자 >= 를 사용하는 문제입니다."
      ]
    },
    {
      "cell_type": "code",
      "metadata": {
        "id": "HZh8lB1GgB-V"
      },
      "source": [
        "a=int(input())\n",
        "b=int(input())\n",
        "print(a>=b)"
      ],
      "execution_count": null,
      "outputs": []
    },
    {
      "cell_type": "markdown",
      "metadata": {
        "id": "3Vu91DH-fA_F"
      },
      "source": [
        "1. 비교연산5(==)<p>\n",
        "두 정수(a,b)를 입력받아 a와 b의 값이 같으면 True, 그 이외의 경우에는 False를 출력하는 문제입니다.<p>\n",
        "비교연산자 == 를 이용하는 문제입니다."
      ]
    },
    {
      "cell_type": "code",
      "metadata": {
        "id": "ts4f9WM9fQ9k"
      },
      "source": [
        "a=int(input())\n",
        "b=int(input())\n",
        "print(a==b)"
      ],
      "execution_count": null,
      "outputs": []
    },
    {
      "cell_type": "markdown",
      "metadata": {
        "id": "crpSwWUb00K5"
      },
      "source": [
        "1. 비교연산6(!=)<p>\n",
        "두 정수(a,b)를 입력받아 a의 값과 b의 값이 서로 다르면 True, 그렇지 않으면 False를 출력하는 문제입니다.<p>\n",
        "비교연산자 !=를 사용하는 문제입니다."
      ]
    },
    {
      "cell_type": "code",
      "metadata": {
        "id": "vhPEZLr21Igr"
      },
      "source": [
        "a,b=input().split()\n",
        "a=int(a)\n",
        "b=int(b)\n",
        "print(a!=b)"
      ],
      "execution_count": null,
      "outputs": []
    },
    {
      "cell_type": "markdown",
      "metadata": {
        "id": "LG7YymzJ2OWP"
      },
      "source": [
        "2. 논리연산1(bool값)<p>\n",
        "정수가 입력되었을 때, 그 값을 Ture 또는 False로 평가한 값을 출력하는 문제입니다.<p>\n",
        "bool()을 사용해서 값을 평가하여 이를 출력하는 문제입니다."
      ]
    },
    {
      "cell_type": "code",
      "metadata": {
        "id": "rTpJ3mnB2eH5"
      },
      "source": [
        "a=int(input())\n",
        "print(bool(a))"
      ],
      "execution_count": null,
      "outputs": []
    },
    {
      "cell_type": "markdown",
      "metadata": {
        "id": "1Jdkk-cp3OQY"
      },
      "source": [
        "2. 논리연산2(not)<p>\n",
        "입력된 정수의 True, False 평가값을 반대로 출력하는 문제입니다.<p>\n",
        "not 을 이용하여 평가값을 반대로 만들어 출력합니다."
      ]
    },
    {
      "cell_type": "code",
      "metadata": {
        "id": "0CA3UcIz3eQI"
      },
      "source": [
        "a=bool(int(input()))\n",
        "print(not a)"
      ],
      "execution_count": null,
      "outputs": []
    },
    {
      "cell_type": "markdown",
      "metadata": {
        "id": "5f0PICtM3niY"
      },
      "source": [
        "2. 논리연산3(and)<p>\n",
        "두 정수의 평가값(bool값) 모두 True인 경우 True로 출력되고 그 이외의 경우는 False를 출력하는 문제입니다.<p>\n",
        "bool() 값을 and 연산하는 문제입니다.<p>"
      ]
    },
    {
      "cell_type": "code",
      "metadata": {
        "id": "KzHeXrqO4hML"
      },
      "source": [
        "a,b=input().split()\n",
        "print(bool(int(a)) and bool(int(b)))"
      ],
      "execution_count": null,
      "outputs": []
    },
    {
      "cell_type": "markdown",
      "metadata": {
        "id": "tsS-CZiW5MhT"
      },
      "source": [
        "2. 논리연산4(or)<p>\n",
        "두 정수의 평가값(bool값) 중 하나라도 True인 경우 True로 출력하고 그 이외의 경우는 False를 출력하는 문제입니다.<p>\n",
        "bool()값을 or 연산하는 문제입니다.<p>"
      ]
    },
    {
      "cell_type": "code",
      "metadata": {
        "id": "eCzhrvv45eTH"
      },
      "source": [
        "a,b=input().split()\n",
        "print(bool(int(a)) or bool(int(b)))"
      ],
      "execution_count": null,
      "outputs": []
    },
    {
      "cell_type": "markdown",
      "metadata": {
        "id": "O8zLNTbbEMS6"
      },
      "source": [
        "2. 논리연산5(참/거짓이 서로 다를 때만 참)<p>\n",
        "두 정수가 서로 다른 불 값으로 평가될 경우 True를 출력하고, 서로 같은 불 값으로 평가될 경우 False를 출력하는 문제입니다.<p>"
      ]
    },
    {
      "cell_type": "code",
      "metadata": {
        "id": "Vg7G1Cd-E5w6"
      },
      "source": [
        "a,b=input().split()\n",
        "c=bool(int(a))\n",
        "d=bool(int(b))\n",
        "print((c and (not d)) or ((not c) and d))"
      ],
      "execution_count": null,
      "outputs": []
    },
    {
      "cell_type": "markdown",
      "metadata": {
        "id": "OfDYCBEuFIbG"
      },
      "source": [
        "2. 논리연산6(참/거짓이 서로 같을 때만 참)<p>\n",
        "두 정수가 서로 같은 불 값으로 평가될 경우 True를 출력하고, 서로 다른 불 값으로 평가될 경우 False를 출력하는 문제입니다.<p>"
      ]
    },
    {
      "cell_type": "code",
      "metadata": {
        "id": "qhoNrBDbHLbO"
      },
      "source": [
        "a,b=input().split()\n",
        "a=bool(int(a))\n",
        "b=bool(int(b))\n",
        "print((a and b) or ((not a) and (not b)))"
      ],
      "execution_count": null,
      "outputs": []
    },
    {
      "cell_type": "markdown",
      "metadata": {
        "id": "MDb51pC9InRh"
      },
      "source": [
        "2. 논리연산7(둘 다 거짓일 때만 참)<p>\n",
        "두 정수가 모두 False로 평가될 경참 True를 출력하고, 그 이외의 경우 False를 출력하는 문제입니다.<p>"
      ]
    },
    {
      "cell_type": "code",
      "metadata": {
        "id": "2QSDxcotI4W8"
      },
      "source": [
        "a,b=input().split()\n",
        "a=bool(int(a))\n",
        "b=bool(int(b))\n",
        "print((not a) and (not b))"
      ],
      "execution_count": null,
      "outputs": []
    },
    {
      "cell_type": "markdown",
      "metadata": {
        "id": "lyJECPDVPsno"
      },
      "source": [
        "3. 선택 구조1(if)<p>\n",
        "정수 3개를 입력받아 짝수만 출력하는 문제입니다.<p>\n",
        "짝수는 2로 나눈 나머지가 0이고 홀수는 2로 나눈 나머지가 1이라는 사실을 이용합니다."
      ]
    },
    {
      "cell_type": "code",
      "metadata": {
        "id": "zyv3UCpKQNap"
      },
      "source": [
        "a,b,c=input().split()\n",
        "a=int(a)\n",
        "b=int(b)\n",
        "c=int(c)\n",
        "if a%2==0:\n",
        "  print(a)\n",
        "if b%2==0:\n",
        "  print(b)\n",
        "if c%2==0:\n",
        "  print(c)"
      ],
      "execution_count": null,
      "outputs": []
    },
    {
      "cell_type": "markdown",
      "metadata": {
        "id": "H4PSwSSaRHpL"
      },
      "source": [
        "3. 선택 구조2(if else)<p>\n",
        "정수 3개를 입력받아 각 정수가 짝(even)인지 홀(odd)인지 출력하는 문제입니다.<p>\n",
        "2로 나눈 나머지라 1이냐 0이냐로 구분하여 출력하면 됩니다."
      ]
    },
    {
      "cell_type": "code",
      "metadata": {
        "id": "ejY9AgYmRwaf"
      },
      "source": [
        "a,b,c=input().split()\n",
        "a=int(a)\n",
        "b=int(b)\n",
        "c=int(c)\n",
        "if a%2==0:\n",
        "  print('even')\n",
        "else:\n",
        "  print('odd')\n",
        "if b%2==0:\n",
        "  print('even')\n",
        "else:\n",
        "  print('odd')\n",
        "if c%2==0:\n",
        "  print('even')\n",
        "else:\n",
        "  print('odd')"
      ],
      "execution_count": null,
      "outputs": []
    },
    {
      "cell_type": "markdown",
      "metadata": {
        "id": "_bMa5jkyJIV1"
      },
      "source": [
        "3. 선택 구조3(중첩 선택)<p>\n",
        "0이 아닌 정수 1개를 입력받아 음,양,홀,짝을 구별하여 출력하는 문제입니다.<p>\n",
        "음수이면서 짝수이면 A<p>\n",
        "음수이면서 홀수이면 B<p>\n",
        "양수이면서 짝수이면 C<p>\n",
        "양수이면서 홀수이면 D를 출력하면 됩니다."
      ]
    },
    {
      "cell_type": "code",
      "metadata": {
        "id": "oQgD3GP8MF8x"
      },
      "source": [
        "n=int(input())\n",
        "if n<0:\n",
        "  if n%2==0:\n",
        "    print('A')\n",
        "  else:\n",
        "    print('B')\n",
        "else:\n",
        "  if n%2==0:\n",
        "    print('C')\n",
        "  else:\n",
        "    print('D')"
      ],
      "execution_count": null,
      "outputs": []
    },
    {
      "cell_type": "markdown",
      "metadata": {
        "id": "zOGLAvUNMU0D"
      },
      "source": [
        "3. 선택 구조4(다중 선택(중첩이용))<p>\n",
        "0-100점 사이의 정수 1개를 입력받아 해당하는 평가를 출력하는 문제입니다.<p>\n",
        "90-100 : A<p>\n",
        "70-89 : B<p>\n",
        "40-69 : C<p>\n",
        "0-39 : D<p>\n",
        "다중 선택 구조입니다."
      ]
    },
    {
      "cell_type": "code",
      "metadata": {
        "id": "9yp0nwmsMX2o"
      },
      "source": [
        "n=input()\n",
        "n=int(n)\n",
        "if n>=90:\n",
        "  print('A')\n",
        "else:\n",
        "  if n>=70:\n",
        "    print('B')\n",
        "  else:\n",
        "    if n>=40:\n",
        "      print('C')\n",
        "    else:\n",
        "      print('D')"
      ],
      "execution_count": null,
      "outputs": []
    },
    {
      "cell_type": "code",
      "metadata": {
        "id": "VzyCMw2jxqY7"
      },
      "source": [
        "n=int(input())\n",
        "if n>=90:\n",
        "  print('A')\n",
        "elif n>=70:\n",
        "  print('B')\n",
        "elif n>=40:\n",
        "  print('C')\n",
        "else:\n",
        "  print('D')"
      ],
      "execution_count": null,
      "outputs": []
    },
    {
      "cell_type": "markdown",
      "metadata": {
        "id": "HHaICLys8aEW"
      },
      "source": [
        "3. 선택 구조5(다중 선택(elif 이용))<p>\n",
        "문자 1개를 입력받아 이에 맞는 내용을 출력하는 문제입니다.<p>\n",
        "A : best!!!<p>\n",
        "B : good!!<p>\n",
        "C : run!<p>\n",
        "D : slowly~<p>\n",
        "나머지 문자 : what?<p>\n",
        "을 출력하는 문제입니다.<p>"
      ]
    },
    {
      "cell_type": "code",
      "metadata": {
        "id": "XZ_MEMXJ9VBB"
      },
      "source": [
        "n=input()\n",
        "if n=='A':\n",
        "  print('best!!!')\n",
        "else:\n",
        "  if n=='B':\n",
        "    print('good!!')\n",
        "  else:\n",
        "    if n=='C':\n",
        "      print('run!')\n",
        "    else:\n",
        "      if n=='D':\n",
        "        print('slowly~')\n",
        "      else:\n",
        "        print('what?')"
      ],
      "execution_count": null,
      "outputs": []
    },
    {
      "cell_type": "code",
      "metadata": {
        "id": "mHmDMjItzFxF"
      },
      "source": [
        "n=input()\n",
        "if n=='A':\n",
        "  print('best!!!')\n",
        "elif n=='B':\n",
        "  print('good!!')\n",
        "elif n=='C':\n",
        "  print('run!')\n",
        "elif n=='D':\n",
        "  print('slowly~')\n",
        "else:\n",
        "  print('what?')"
      ],
      "execution_count": null,
      "outputs": []
    },
    {
      "cell_type": "markdown",
      "metadata": {
        "id": "KQ-KJEjf-dtP"
      },
      "source": [
        "3. 선택 구조6(활용)<p>\n",
        "월을 정수로 입력받아 해당하는 계절을 출력하는 문제입니다.<p>\n",
        "12,1,2 : winter<p>\n",
        "3,4,5 : spring<p>\n",
        "6,7,8 : summer<p>\n",
        "9,10,11 : fall<p>\n",
        "입력받은 월을 3으로 나눈 몫이 1이면 spring, 2면 summer, 3이면 fall, 4혹은 0이면 winter를 출력하면 됩니다.<p>\n",
        "월은 1~12인 정수만 입력되는 것을 주의하면 됩니다."
      ]
    },
    {
      "cell_type": "code",
      "metadata": {
        "id": "F2mnwY_Kbrlc"
      },
      "source": [
        "n=input()\n",
        "n=int(n)\n",
        "if n//3==0:\n",
        "  print('winter')\n",
        "else:\n",
        "  if n//3==1:\n",
        "    print('spring')\n",
        "  else:\n",
        "    if n//3==2:\n",
        "      print('summer')\n",
        "    else:\n",
        "      if n//3==3:\n",
        "        print('fall')\n",
        "      else:\n",
        "        print('winter')"
      ],
      "execution_count": null,
      "outputs": []
    },
    {
      "cell_type": "code",
      "metadata": {
        "id": "An-IJgzI0srN"
      },
      "source": [
        "n=input()\n",
        "n=int(n)\n",
        "if n//3==1:\n",
        "  print('spring')\n",
        "elif n//3==2:\n",
        "  print('summer')\n",
        "elif n//3==3:\n",
        "  print('fall')\n",
        "else:\n",
        "  print('winter')"
      ],
      "execution_count": null,
      "outputs": []
    },
    {
      "cell_type": "markdown",
      "metadata": {
        "id": "ADulNuEPc3R_"
      },
      "source": [
        "4. 반복 구조1(while)<p>\n",
        "정수를 계속 입력받고, 입력받은 값을 그대로 출력하다가 0이 입력되면 멈추는 문제입니다.<p>\n",
        "반복은 while과 for가 있으며 대부분은 둘 다 사용할 수 있지만 이 문제의 경우는 for를 사용하려면 매우 어렵기 때문에 while을 사용하는 것이 훨씬 편합니다."
      ]
    },
    {
      "cell_type": "code",
      "metadata": {
        "id": "3CPfOOkyeR17"
      },
      "source": [
        "n=1  #다음 줄의 n!=0 이 True기 위해 0이 아닌 임의의 정수를 저장\n",
        "while n!=0 :\n",
        "  n=int(input())\n",
        "  if n!=0 :\n",
        "    print(n)"
      ],
      "execution_count": null,
      "outputs": []
    },
    {
      "cell_type": "markdown",
      "metadata": {
        "id": "cx6A8tz-en1k"
      },
      "source": [
        "4. 반복 구조2(while 활용1 카운트다운)<p>\n",
        "양의 정수 1개를 입력받아 입력받은 숫자부터 1까지 카운트다운을 출력하는 문제입니다.<p>\n",
        "while과 for를 둘 다 사용하기 쉬운 문제로 둘 다 작성해봅시다."
      ]
    },
    {
      "cell_type": "code",
      "metadata": {
        "id": "VV1T3Je7gE5-"
      },
      "source": [
        "n=int(input())\n",
        "while n!=0:\n",
        "  print(n)\n",
        "  n=n-1"
      ],
      "execution_count": null,
      "outputs": []
    },
    {
      "cell_type": "code",
      "metadata": {
        "id": "Tu4LWjm52z_D"
      },
      "source": [
        "n=int(input())\n",
        "for i in range(n,0,-1):\n",
        "  print(i)"
      ],
      "execution_count": null,
      "outputs": []
    },
    {
      "cell_type": "markdown",
      "metadata": {
        "id": "Wl6LZUBwgYyQ"
      },
      "source": [
        "4. 반복 구조3(while 활용2 카운트다운2)<p>\n",
        "위의 문제와 거의 같지만 입력한 수는 제외하고, 1이 아닌 0까지 카운트다운을 출력하는 문제입니다.<p>\n",
        "조건을 어떻게 써야하는 지 잘 생각해야 하는 문제입니다.<p>\n",
        "특히 while같은 경우 순서에 유념해서 잘 생각해봅시다."
      ]
    },
    {
      "cell_type": "code",
      "metadata": {
        "id": "GwX4GTg3hhKq"
      },
      "source": [
        "n=int(input())\n",
        "while n!=0 :\n",
        "  n=n-1\n",
        "  print(n)"
      ],
      "execution_count": null,
      "outputs": []
    },
    {
      "cell_type": "code",
      "metadata": {
        "id": "2mPgMbTB4R0H"
      },
      "source": [
        "n=int(input())\n",
        "while n!=0 :\n",
        "  print(n-1)\n",
        "  n=n-1"
      ],
      "execution_count": null,
      "outputs": []
    },
    {
      "cell_type": "code",
      "metadata": {
        "id": "QfOr6JTS3m-m"
      },
      "source": [
        "n=int(input())\n",
        "for i in range(n-1,-1,-1) :\n",
        "  print(i)"
      ],
      "execution_count": null,
      "outputs": []
    },
    {
      "cell_type": "code",
      "metadata": {
        "id": "zgYuOzyH4kHK"
      },
      "source": [
        "n=int(input())\n",
        "for i in range(n,0,-1) :\n",
        "  print(i-1)"
      ],
      "execution_count": null,
      "outputs": []
    },
    {
      "cell_type": "markdown",
      "metadata": {
        "id": "Pn16gk9e5C2l"
      },
      "source": [
        "4. 반복 구조4(while 활용3 카운트업)<p>\n",
        "카운트다운과 반대로 정수 1개를 입력받아 0부터 그 수까지 출력하는 문제입니다.<p>\n",
        "이 문제도 while과 for로 풀어보겠습니다."
      ]
    },
    {
      "cell_type": "code",
      "metadata": {
        "id": "GWBoH-2N5Q5o"
      },
      "source": [
        "n=int(input())\n",
        "a=0\n",
        "while a!=n+1:\n",
        "  print(a)\n",
        "  a=a+1"
      ],
      "execution_count": null,
      "outputs": []
    },
    {
      "cell_type": "code",
      "metadata": {
        "id": "ddoBM9xZ5ojC"
      },
      "source": [
        "n=int(input())\n",
        "for i in range(n+1):\n",
        "  print(i)"
      ],
      "execution_count": null,
      "outputs": []
    },
    {
      "cell_type": "markdown",
      "metadata": {
        "id": "oDhm-ChQlT1W"
      },
      "source": [
        "4. 반복 구조5(for 활용1 카운트업)<p>\n",
        "카운트다운과 반대로 정수 1개를 입력받아 0부터 그 수까지 출력하는 문제입니다.<p>\n",
        "위 문제와 똑같습니다."
      ]
    },
    {
      "cell_type": "code",
      "metadata": {
        "id": "OmYl6SmVlYSN"
      },
      "source": [
        "n=int(input())\n",
        "a=0\n",
        "while a!=n+1:\n",
        "  print(a)\n",
        "  a=a+1"
      ],
      "execution_count": null,
      "outputs": []
    },
    {
      "cell_type": "code",
      "metadata": {
        "id": "t6piSSD2lZ4F"
      },
      "source": [
        "n=int(input())\n",
        "for i in range(n+1):\n",
        "  print(i)"
      ],
      "execution_count": null,
      "outputs": []
    },
    {
      "cell_type": "markdown",
      "metadata": {
        "id": "EF1JjRn9lv03"
      },
      "source": [
        "4. 반복 구조6(for 활용2 카운트다운)<p>\n",
        "양의 정수 1개를 입력받아 입력받은 숫자부터 1까지 카운트다운을 출력하는 문제입니다.<p>\n",
        "위의 반복 구조2와 완전히 같은 문제입니다."
      ]
    },
    {
      "cell_type": "code",
      "metadata": {
        "id": "vrk5cjv8lv05"
      },
      "source": [
        "n=int(input())\n",
        "while n!=0:\n",
        "  print(n)\n",
        "  n=n-1"
      ],
      "execution_count": null,
      "outputs": []
    },
    {
      "cell_type": "code",
      "metadata": {
        "id": "4zZINUuRlv06"
      },
      "source": [
        "n=int(input())\n",
        "for i in range(n,0,-1):\n",
        "  print(i)"
      ],
      "execution_count": null,
      "outputs": []
    },
    {
      "cell_type": "markdown",
      "metadata": {
        "id": "KdJKR8WamQCK"
      },
      "source": [
        "5. 종합1(짝수 합 구하기)<p>\n",
        "양의 정수n을 입력받아 1부터 n 사이의 짝수를 모두 더한 값을 출력하는 문제입니다.<p>\n",
        "for나 while 편한 대로 사용하면 됩니다.<p>"
      ]
    },
    {
      "cell_type": "code",
      "metadata": {
        "id": "l6nNr_vXmQCL"
      },
      "source": [
        "n=int(input())\n",
        "s=0\n",
        "for i in range(1,n+1):\n",
        "  if i%2==0:\n",
        "    s=s+i\n",
        "print(s)"
      ],
      "execution_count": null,
      "outputs": []
    },
    {
      "cell_type": "code",
      "source": [
        "n=int(input())\n",
        "s=0\n",
        "a=0\n",
        "while a!=n+1:\n",
        "  if a%2==0:\n",
        "    s=s+a\n",
        "  a=a+1\n",
        "print(s)"
      ],
      "metadata": {
        "id": "slek6PL4vKuE"
      },
      "execution_count": null,
      "outputs": []
    },
    {
      "cell_type": "markdown",
      "metadata": {
        "id": "ll1PuYLymqdW"
      },
      "source": [
        "5. 종합2(원하는 문자가 입력될 때까지 반복)<p>\n",
        "원하는 문자(q)가 입력될 때까지 입력된 문자를 출력하는 문제입니다.<p>\n",
        "while을 사용하는 것이 편합니다."
      ]
    },
    {
      "cell_type": "code",
      "metadata": {
        "id": "aqLzFURJmpTR"
      },
      "source": [
        "n='a'\n",
        "while n!='q':\n",
        "  n=input()\n",
        "  print(n)"
      ],
      "execution_count": null,
      "outputs": []
    },
    {
      "cell_type": "markdown",
      "metadata": {
        "id": "NAVdRZkmnWit"
      },
      "source": [
        "5. 종합3(언제까지 더해야 할까?)<p>\n",
        "정수 1개를 입력받아 1부터 특정 자연수까지 모두 더한 값이 n보다 크거나 같을 때 마지막에 더한 자연수를 출력하는 문제입니다.<p>\n",
        "이 문제는 while을 이용하는 것이 편리합니다."
      ]
    },
    {
      "cell_type": "code",
      "metadata": {
        "id": "cVOItt7znWiw"
      },
      "source": [
        "n=int(input())\n",
        "s=0\n",
        "a=0\n",
        "while s<n:\n",
        "  a=a+1\n",
        "  s=s+a\n",
        "print(a)"
      ],
      "execution_count": null,
      "outputs": []
    },
    {
      "cell_type": "markdown",
      "metadata": {
        "id": "oCFRixUwnsj-"
      },
      "source": [
        "5. 종합4(주사위 2개 던지기(중첩 반복))<p>\n",
        "두 정수를 입력받아 1부터 두 정수까지 적힌 서로 다른 주사위 2개를 던져서 나올 수 있는 모든 경우를 출력하는 문제입니다.<p>\n",
        "반복 구조 안에 반복 구조를 넣는 중첩 반복구조 문제입니다.<p>\n",
        "for 내부에 for를 사용해봅시다."
      ]
    },
    {
      "cell_type": "code",
      "metadata": {
        "id": "iHCBGunqnsj_"
      },
      "source": [
        "n,m=input().split()\n",
        "n=int(n)\n",
        "m=int(m)\n",
        "for i in range(1, n+1) :\n",
        "  for j in range(1, m+1) :\n",
        "    print(i, j)"
      ],
      "execution_count": null,
      "outputs": []
    },
    {
      "cell_type": "markdown",
      "metadata": {
        "id": "6-q82_2coHg8"
      },
      "source": [
        "5. 종합5(빛 섞어 색 만들기(중첩 반복))<p>\n",
        "세 정수 R,G,B 값을 입력받아 이 3개를 섞어서 만들 수 있는 색깔을 오름차순으로 모두 출력하는 문제입니다.<p>\n",
        "중첩 for를 사용하면 편리합기다.<p>"
      ]
    },
    {
      "cell_type": "code",
      "metadata": {
        "id": "2PW_H94GoHg-"
      },
      "source": [
        "r,g,b=input().split()\n",
        "r=int(r)\n",
        "g=int(g)\n",
        "b=int(b)\n",
        "s=0\n",
        "for i in range(0, r) :\n",
        "  for j in range(0, g) :\n",
        "    for k in range(0, b) :\n",
        "      print(i, j, k)\n",
        "      s=s+1\n",
        "print(s)"
      ],
      "execution_count": null,
      "outputs": []
    },
    {
      "cell_type": "markdown",
      "metadata": {
        "id": "d99b0H4BobRI"
      },
      "source": [
        "5. 종합6(3 6 9 게임)<p>\n",
        "정수를 입력받고 1부터 그 정수까지 출력하며 숫자에 3,6,9가 적힌 숫자 차례에는 숫자값이 아닌 X를 출력하는 문제입니다.<p>\n",
        "이 문제는 30보다 작은 정수만 입력받기 때문에 X는 1번만 나옵니다.<p><p>\n",
        "<br>\n",
        "자신있는 친구들은 100보다 작은 정수도 도전해봅시다.<p>\n",
        "이 문제에서 X는 박수를 의미해서 도전문제에서 30보다 큰 33의 경우 XX로 박수를 2번 쳐야 됩니다."
      ]
    },
    {
      "cell_type": "code",
      "metadata": {
        "id": "JDxu_dczobRJ"
      },
      "source": [
        "n=int(input())\n",
        "for i in range(1,n+1) :\n",
        "  if i%10==3 이\n",
        "    print(\"X\", end=' ')\n",
        "  elif i%10==6 :\n",
        "    print(\"X\", end=' ')\n",
        "  elif i%10==9 :\n",
        "    print(\"X\", end=' ')\n",
        "  else :\n",
        "    print(i, end=' ')"
      ],
      "execution_count": null,
      "outputs": []
    },
    {
      "cell_type": "code",
      "source": [
        "n=int(input())\n",
        "for i in range(1, n+1) :\n",
        "  if i//10%10==3 or i//10%10==6 or i//10%10==9 :\n",
        "    if i%10==3 or i%10==6 or i%10==9 :\n",
        "      print(\"XX\", end=' ')\n",
        "    else :\n",
        "      print(\"X\", end=' ')\n",
        "  else :\n",
        "    if i%10==3 or i%10==6 or i%10==9 :\n",
        "      print(\"X\", end=' ')\n",
        "    else :\n",
        "      print(i, end=' ')"
      ],
      "metadata": {
        "id": "6c-Gco7GjUms"
      },
      "execution_count": null,
      "outputs": []
    },
    {
      "cell_type": "markdown",
      "metadata": {
        "id": "Y0gRj78Qo7r3"
      },
      "source": [
        "5. 종합7(무한 반복과 break)<p>\n",
        "정수 1개를 입력받아 1부터 특정한 자연수까지의 합이 n보다 커질 때 그 합을 출력하는 문제입니다.<p>\n",
        "종합3번 문제와 거의 유사하나 while 안에 break를 사용하는 것을 보여주는 문제로 while문과 break 사용을 익혀봅시다."
      ]
    },
    {
      "cell_type": "code",
      "metadata": {
        "id": "hV_ipY_qo7r6"
      },
      "source": [
        "n=int(input())\n",
        "s=0\n",
        "c=0\n",
        "while True:\n",
        "  s+=c\n",
        "  c+=1\n",
        "  if s>=n:\n",
        "    break\n",
        "print(s)"
      ],
      "execution_count": null,
      "outputs": []
    },
    {
      "cell_type": "markdown",
      "metadata": {
        "id": "9_cUY6F5pOqN"
      },
      "source": [
        "5. 종합8(3의 배수는 통과(continue))<p>\n",
        "정수 1개를 입력받아 1부터 그 정수까지 출력하며 3의 배수는 출력하지 않는 문제입니다.<p>\n",
        "for문에서 continue를 사용하는 것을 보여주는 문제로 for문과 continue 사용을 익혀봅시다."
      ]
    },
    {
      "cell_type": "code",
      "metadata": {
        "id": "67Kvu2C5pOqQ"
      },
      "source": [
        "n=int(input())\n",
        "for i in range(1,n+1):\n",
        "  if i%3==0:\n",
        "    continue\n",
        "  print(i,end=' ')"
      ],
      "execution_count": null,
      "outputs": []
    }
  ]
}