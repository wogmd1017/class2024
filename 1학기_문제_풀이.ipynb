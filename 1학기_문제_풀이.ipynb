{
  "nbformat": 4,
  "nbformat_minor": 0,
  "metadata": {
    "colab": {
      "provenance": [],
      "include_colab_link": true
    },
    "kernelspec": {
      "name": "python3",
      "display_name": "Python 3"
    },
    "language_info": {
      "name": "python"
    }
  },
  "cells": [
    {
      "cell_type": "markdown",
      "metadata": {
        "id": "view-in-github",
        "colab_type": "text"
      },
      "source": [
        "<a href=\"https://colab.research.google.com/github/wogmd1017/class2024/blob/main/1%ED%95%99%EA%B8%B0_%EB%AC%B8%EC%A0%9C_%ED%92%80%EC%9D%B4.ipynb\" target=\"_parent\"><img src=\"https://colab.research.google.com/assets/colab-badge.svg\" alt=\"Open In Colab\"/></a>"
      ]
    },
    {
      "cell_type": "markdown",
      "metadata": {
        "id": "R4YeCjM0xOmo"
      },
      "source": [
        "1.문자열 1번<p>\n",
        "파이썬에서 특정한 문자열을 출력할 때<p>\n",
        "print(\"문자열\") 혹은<p>\n",
        "print('문자열') 을 기본으로 합니다."
      ]
    },
    {
      "cell_type": "code",
      "metadata": {
        "id": "eDTPGZ20xQnK",
        "outputId": "7db69a3b-22fc-44eb-b513-63b50273fa44",
        "colab": {
          "base_uri": "https://localhost:8080/"
        }
      },
      "source": [
        "print(\"Hello Class\")"
      ],
      "execution_count": 7,
      "outputs": [
        {
          "output_type": "stream",
          "name": "stdout",
          "text": [
            "Hello Class\n"
          ]
        }
      ]
    },
    {
      "cell_type": "code",
      "source": [
        "print('Hello Class')"
      ],
      "metadata": {
        "colab": {
          "base_uri": "https://localhost:8080/"
        },
        "id": "qi9l3aqbAUs-",
        "outputId": "07987e65-e0e9-4024-c66f-f17754684a0b"
      },
      "execution_count": 8,
      "outputs": [
        {
          "output_type": "stream",
          "name": "stdout",
          "text": [
            "Hello Class\n"
          ]
        }
      ]
    },
    {
      "cell_type": "markdown",
      "metadata": {
        "id": "HhBi6kK3xUAw"
      },
      "source": [
        "1. 문자열 2번<p>\n",
        "print(\"문장1 문장2\") 도 가능하지만<p>\n",
        "print(\"문장1\",\"문장2\") 도 가능합니다."
      ]
    },
    {
      "cell_type": "code",
      "metadata": {
        "id": "5Nll--vuzsaL",
        "outputId": "2535e107-8ecb-408f-fe48-57536f4d376b",
        "colab": {
          "base_uri": "https://localhost:8080/"
        }
      },
      "source": [
        "print(\"Happy Class\")"
      ],
      "execution_count": 5,
      "outputs": [
        {
          "output_type": "stream",
          "name": "stdout",
          "text": [
            "Happy Class\n"
          ]
        }
      ]
    },
    {
      "cell_type": "code",
      "source": [
        "print(\"Happy\",\"Class\")"
      ],
      "metadata": {
        "colab": {
          "base_uri": "https://localhost:8080/"
        },
        "id": "OH843h97AMQ9",
        "outputId": "66e32c15-2c19-4ad7-d0e0-ad36721ac45d"
      },
      "execution_count": 6,
      "outputs": [
        {
          "output_type": "stream",
          "name": "stdout",
          "text": [
            "Happy Class\n"
          ]
        }
      ]
    },
    {
      "cell_type": "markdown",
      "metadata": {
        "id": "wAOp61o60DZs"
      },
      "source": [
        "1. 문자열 3번<p>\n",
        "두 줄에 걸쳐 줄을 바꿔 출력할 경우 print를 두 번 사용하고 엔터를 이용해서 두 줄에 걸쳐 씁니다.<p>\n",
        "print(\"Hello\")<p>\n",
        "print(\"World\")<p>\n",
        "파이썬은 코딩할 때 들여쓰기와 줄바꿔쓰기에 의미가 있으므로 조심해서 써야합니다."
      ]
    },
    {
      "cell_type": "code",
      "metadata": {
        "id": "4oWgMgUj0qr9",
        "outputId": "52818a75-4a5d-4279-ea5c-a069110cdbe2",
        "colab": {
          "base_uri": "https://localhost:8080/"
        }
      },
      "source": [
        "print(\"Happy\")\n",
        "print(\"Class\")"
      ],
      "execution_count": 3,
      "outputs": [
        {
          "output_type": "stream",
          "name": "stdout",
          "text": [
            "Happy\n",
            "Class\n"
          ]
        }
      ]
    },
    {
      "cell_type": "markdown",
      "source": [
        "1. 문자열 4번<p>\n",
        "특수 문자도 문자열이므로 문자열과 동일하게 따옴표 안에 쓰면 됩니다."
      ],
      "metadata": {
        "id": "JgZp3yvDA2MM"
      }
    },
    {
      "cell_type": "code",
      "source": [
        "print('!!@^_^@!!')"
      ],
      "metadata": {
        "id": "m2LOZhI4A1V7"
      },
      "execution_count": null,
      "outputs": []
    },
    {
      "cell_type": "markdown",
      "metadata": {
        "id": "crpSwWUb00K5"
      },
      "source": [
        "1. 문자열 5번<p>\n",
        "파이썬에서 따옴표 또한 문법의 일부이므로 조심해서 써야합니다.<p>\n",
        "큰 따옴표와 작은 따옴표 2개가 만나면 그 사이를 문자열로 인식하므로 조심해야 합니다.<p>\n",
        "큰따옴표가 들어간 문장을 출력하려면 작은따옴표로 묶어 표현하면 됩니다.<p>\n",
        "반대로 작은따옴표가 들어간 문장을 출력하려면 큰따옴표로 묶어 표현하면 됩니다.<p>"
      ]
    },
    {
      "cell_type": "code",
      "metadata": {
        "id": "aUq1Q6uG15Dw",
        "colab": {
          "base_uri": "https://localhost:8080/"
        },
        "outputId": "cb26ca32-caa8-4ed3-bd73-2b4b6fd30e32"
      },
      "source": [
        "print('\"Happy Class\"')"
      ],
      "execution_count": 9,
      "outputs": [
        {
          "output_type": "stream",
          "name": "stdout",
          "text": [
            "\"Happy Class\"\n"
          ]
        }
      ]
    },
    {
      "cell_type": "markdown",
      "source": [
        "아래 코드도 실행해 봅시다."
      ],
      "metadata": {
        "id": "zAnP53NwBdu_"
      }
    },
    {
      "cell_type": "code",
      "metadata": {
        "id": "vhPEZLr21Igr"
      },
      "source": [
        "print(\"\"Hello\")"
      ],
      "execution_count": null,
      "outputs": []
    },
    {
      "cell_type": "code",
      "metadata": {
        "id": "6jRowUW_1QuE"
      },
      "source": [
        "print(\"\"Hello\"\")"
      ],
      "execution_count": null,
      "outputs": []
    },
    {
      "cell_type": "code",
      "metadata": {
        "id": "SlHUkdop1XO2"
      },
      "source": [
        "print(\"\"\"\")"
      ],
      "execution_count": null,
      "outputs": []
    },
    {
      "cell_type": "code",
      "metadata": {
        "id": "7tNRxiRO1aj_"
      },
      "source": [
        "print(\"\",\"\")"
      ],
      "execution_count": null,
      "outputs": []
    },
    {
      "cell_type": "code",
      "metadata": {
        "id": "ZgeWaIT91i42"
      },
      "source": [
        "print(\"''\")\n",
        "print('\"\"')"
      ],
      "execution_count": null,
      "outputs": []
    },
    {
      "cell_type": "markdown",
      "metadata": {
        "id": "LG7YymzJ2OWP"
      },
      "source": [
        "1. 문자열 6번<p>\n",
        "큰따옴표가 들어간 문장을 출력하려면 작은따옴표로 묶어 표현하면 됩니다.<p>\n",
        "반대로 작은따옴표가 들어간 문장을 출력하려면 큰따옴표로 묶어 표현하면 됩니다.<p>"
      ]
    },
    {
      "cell_type": "code",
      "metadata": {
        "id": "rTpJ3mnB2eH5",
        "colab": {
          "base_uri": "https://localhost:8080/"
        },
        "outputId": "0e64efa7-5a3c-413d-f7e0-d5df0e6ed111"
      },
      "source": [
        "print(\"'Happy Class !!@.@!!'\")"
      ],
      "execution_count": 16,
      "outputs": [
        {
          "output_type": "stream",
          "name": "stdout",
          "text": [
            "'Happy Class !!@.@!!'\n"
          ]
        }
      ]
    },
    {
      "cell_type": "markdown",
      "metadata": {
        "id": "1Jdkk-cp3OQY"
      },
      "source": [
        "1. 문자열 7번<p>\n",
        "출력 예시를 잘 확인하고 문제를 풉니다."
      ]
    },
    {
      "cell_type": "code",
      "metadata": {
        "id": "0CA3UcIz3eQI",
        "colab": {
          "base_uri": "https://localhost:8080/"
        },
        "outputId": "9ace5dc5-b85d-486a-d5ef-8269d51b619f"
      },
      "source": [
        "print('print(\"Happy Class\")')"
      ],
      "execution_count": 18,
      "outputs": [
        {
          "output_type": "stream",
          "name": "stdout",
          "text": [
            "print(\"Happy Class\")\n"
          ]
        }
      ]
    },
    {
      "cell_type": "markdown",
      "metadata": {
        "id": "5f0PICtM3niY"
      },
      "source": [
        "2. 변수 1번<p>\n",
        "변수는 대입연산자 = 왼쪽에 변수 이름<p>\n",
        "오른쪽에 저장할 값을 적습니다.<p>\n",
        "변수명=저장할 값"
      ]
    },
    {
      "cell_type": "code",
      "metadata": {
        "id": "KzHeXrqO4hML",
        "colab": {
          "base_uri": "https://localhost:8080/"
        },
        "outputId": "f25d1b50-635f-405d-db17-3c658f378861"
      },
      "source": [
        "a=2020\n",
        "print(a)"
      ],
      "execution_count": 19,
      "outputs": [
        {
          "output_type": "stream",
          "name": "stdout",
          "text": [
            "2020\n"
          ]
        }
      ]
    },
    {
      "cell_type": "markdown",
      "metadata": {
        "id": "tsS-CZiW5MhT"
      },
      "source": [
        "2. 변수 2번<p>\n",
        "저장할 값이 숫자거나 문자열이거나 방법을 똑같습니다.<p>\n",
        "문자열은 반드시 양끝에 따옴표가 와야 합니다."
      ]
    },
    {
      "cell_type": "code",
      "metadata": {
        "id": "eCzhrvv45eTH",
        "colab": {
          "base_uri": "https://localhost:8080/"
        },
        "outputId": "b1987f34-d676-4d95-eacc-2a05e8e102dc"
      },
      "source": [
        "a='Happy'\n",
        "print(a)"
      ],
      "execution_count": 20,
      "outputs": [
        {
          "output_type": "stream",
          "name": "stdout",
          "text": [
            "Happy\n"
          ]
        }
      ]
    },
    {
      "cell_type": "markdown",
      "source": [
        "2. 변수 3번<p>\n",
        "저장할 값에 숫자, 문자열이 올 수 있지만 변수명이 올 수도 있습니다.<p>\n",
        "이 때 오른쪽의 변수명에 저장된 값을 왼쪽의 변수에 저장하라는 뜻입니다."
      ],
      "metadata": {
        "id": "LFPBEsLDDaNj"
      }
    },
    {
      "cell_type": "code",
      "source": [
        "a='Happy'\n",
        "b=a\n",
        "print(a)\n",
        "print(b)"
      ],
      "metadata": {
        "id": "1oXNpdbCDp72"
      },
      "execution_count": null,
      "outputs": []
    },
    {
      "cell_type": "markdown",
      "source": [
        "3. 입력문 1번<p>\n",
        "입력문은 반드시 변수와 함께 사용해야 합니다.<p>\n",
        "변수에 입력받은 값을 저장하는 식으로 사용하며 출력을 통해서 저장된 값을 확인합니다.<p>\n",
        "a=input()<p>\n",
        "과 같은 방식을 사용하며 input 뒤의 괄호에는 아무것도 넣지 않는 것을 기본으로 합니다.<p>\n",
        "가능하다면 꼭 밑의 코드를 실행해서 직접 입력해보기 바랍니다."
      ],
      "metadata": {
        "id": "3ugfcXtBDv5K"
      }
    },
    {
      "cell_type": "code",
      "source": [
        "a=input()\n",
        "print(a)"
      ],
      "metadata": {
        "id": "60LQBNohEIOz"
      },
      "execution_count": null,
      "outputs": []
    },
    {
      "cell_type": "markdown",
      "source": [
        "3. 입력문 2번<p>\n",
        "입력은 숫자, 문자열 동일하게 사용됩니다."
      ],
      "metadata": {
        "id": "As4IPx-FEVfe"
      }
    },
    {
      "cell_type": "code",
      "source": [
        "a=input()\n",
        "print(a)"
      ],
      "metadata": {
        "id": "zy86gBHeElYx"
      },
      "execution_count": null,
      "outputs": []
    },
    {
      "cell_type": "markdown",
      "source": [
        "3. 입력문 3번<p>\n",
        "여러 값을 입력할 때 기본은 input()을 줄을 바꿔 여러 번 하는 것입니다.<p>\n",
        "a=input()<p>\n",
        "b=input()"
      ],
      "metadata": {
        "id": "V_QAgmeYEzzj"
      }
    },
    {
      "cell_type": "code",
      "source": [
        "a=input()\n",
        "b=input()\n",
        "print(a)\n",
        "print(b)"
      ],
      "metadata": {
        "id": "bfGN_q-kFAyR"
      },
      "execution_count": null,
      "outputs": []
    },
    {
      "cell_type": "markdown",
      "source": [
        "3. 입력문 4번<p>\n",
        "동일하게 줄을 바꿔 입력하는데 출력의 순서에 주의합니다."
      ],
      "metadata": {
        "id": "cchbrL3mFEoS"
      }
    },
    {
      "cell_type": "code",
      "source": [
        "a=input()\n",
        "b=input()\n",
        "print(b)\n",
        "print(a)"
      ],
      "metadata": {
        "id": "CY1YDhzAFM5M"
      },
      "execution_count": null,
      "outputs": []
    },
    {
      "cell_type": "markdown",
      "source": [
        "3. 입력문 5번<p>\n",
        "줄을 바꾸지 않고 한 줄에 여러 변수에 값을 저장하려면<p>\n",
        "입력받은 값을 쪼개야 합니다.<p>\n",
        "a,b=input().split()<p>\n",
        "split()의 괄호 속에는 쪼개는 기준이 들어가면 되고 비워두면 공백 기준입니다."
      ],
      "metadata": {
        "id": "Hbw6-CXXFQOL"
      }
    },
    {
      "cell_type": "code",
      "source": [
        "a,b=input().split()\n",
        "print(a)\n",
        "print(b)"
      ],
      "metadata": {
        "id": "fciQ41MDFrLy"
      },
      "execution_count": null,
      "outputs": []
    },
    {
      "cell_type": "markdown",
      "source": [
        "3. 입력문 6번<p>\n",
        "공백 기준으로 한 줄에 입력받는 것은 동일하며 출력 방식에 주의하세요."
      ],
      "metadata": {
        "id": "PLaWcQzuFuSv"
      }
    },
    {
      "cell_type": "code",
      "source": [
        "a,b=input().split()\n",
        "print(b,a)"
      ],
      "metadata": {
        "id": "yEJA1Gj8F6EI"
      },
      "execution_count": null,
      "outputs": []
    },
    {
      "cell_type": "markdown",
      "source": [
        "3. 입력문 7번<p>\n",
        "공백이 아닌 기준을 넣을 때는 문자열이기 때문에 기준 좌우에 따옴표를 씁니다.<p>\n",
        ".split(':') 와 같이 사용합니다."
      ],
      "metadata": {
        "id": "Ue_LnwohF9W-"
      }
    },
    {
      "cell_type": "code",
      "source": [
        "h,m,s=input().split(':')\n",
        "print(m)"
      ],
      "metadata": {
        "id": "kXphA33IGLEM"
      },
      "execution_count": null,
      "outputs": []
    },
    {
      "cell_type": "markdown",
      "source": [
        "3. 입력문 8번<p>\n",
        "이번에는 한 줄에 여러 값을 출력할 때 값과 값 사이의 공백 대신 원하는 기호를 넣을 때 사용하는 방식입니다.<p>\n",
        "print()의 괄호 맨 마지막에 ,sep='기호'<p>\n",
        "와 같이 사용합니다."
      ],
      "metadata": {
        "id": "lN1Z8WcLGPBi"
      }
    },
    {
      "cell_type": "code",
      "source": [
        "y,m,d=input().split('.')\n",
        "print(d,m,y,sep='-')"
      ],
      "metadata": {
        "id": "VaRe-f00GoQH"
      },
      "execution_count": null,
      "outputs": []
    },
    {
      "cell_type": "markdown",
      "source": [
        "4. 연산 1번<p>\n",
        "문자열의 덧셈은 그냥 + 기호를 사용하면 됩니다."
      ],
      "metadata": {
        "id": "Pj4WebEnG0-l"
      }
    },
    {
      "cell_type": "code",
      "source": [
        "a=input()\n",
        "b=input()\n",
        "c=a+b\n",
        "print(c)"
      ],
      "metadata": {
        "id": "EoJh8mL1G8bZ"
      },
      "execution_count": null,
      "outputs": []
    },
    {
      "cell_type": "markdown",
      "source": [
        "4. 연산 2번<p>\n",
        "input()으로 입력받은 값은 무.조.건. 문자열입니다.<p>\n",
        "입력받아서 문자열이 된 숫자를 다시 숫자로 바꾸어 주는 명령이<p>\n",
        "int()와 float()입니다.<p>\n",
        "int()는 정수로 변환해주고 float()는 실수로 변환해줍니다.<p>\n",
        "이해하기 쉽게 정수는 소수점이 없는 수이고 실수는 소수점이 있는 수입니다."
      ],
      "metadata": {
        "id": "h6QTSNAnHAhf"
      }
    },
    {
      "cell_type": "code",
      "source": [
        "a,b=input().split()\n",
        "c=int(a)+int(b)\n",
        "print(c)"
      ],
      "metadata": {
        "id": "9byvZwMbHjR0"
      },
      "execution_count": null,
      "outputs": []
    },
    {
      "cell_type": "markdown",
      "source": [
        "4. 연산 3번<p>\n",
        "정수는 소수점이 없는 수이며 int()로 변환하고<p>\n",
        "실수는 소수점이 있는 수이며 float()로 변환합니다."
      ],
      "metadata": {
        "id": "boHOWObpHpgV"
      }
    },
    {
      "cell_type": "code",
      "source": [
        "a,b=input().split()\n",
        "a=float(a)\n",
        "b=float(b)\n",
        "print(a+b)"
      ],
      "metadata": {
        "id": "BiJYJvniIf6K"
      },
      "execution_count": null,
      "outputs": []
    },
    {
      "cell_type": "markdown",
      "source": [
        "4. 연산 4번<p>\n",
        "입력->변수 대입->숫자 변환->연산->출력<p>\n",
        "의 흐름대로 코드를 작성합니다.<p>\n",
        "부호 바꾸기는 값 앞에 - 를 붙입니다.<p>"
      ],
      "metadata": {
        "id": "QJbDOo2xImUI"
      }
    },
    {
      "cell_type": "code",
      "source": [
        "a=input()\n",
        "a=int(a)\n",
        "print(-a)"
      ],
      "metadata": {
        "id": "i8tj7WpwI747"
      },
      "execution_count": null,
      "outputs": []
    },
    {
      "cell_type": "markdown",
      "source": [
        "4. 연산 5번<p>\n",
        "두 수의 차는 값-값 입니다."
      ],
      "metadata": {
        "id": "7-wzHsgyJDal"
      }
    },
    {
      "cell_type": "code",
      "source": [
        "a,b=input().split()\n",
        "print(int(a)-int(b))"
      ],
      "metadata": {
        "id": "J-g8RCgFJI0C"
      },
      "execution_count": null,
      "outputs": []
    },
    {
      "cell_type": "markdown",
      "source": [
        "4. 연산 6번<p>\n",
        "두 수의 곱은 값*값 입니다."
      ],
      "metadata": {
        "id": "HVqDDNJUJW-A"
      }
    },
    {
      "cell_type": "code",
      "source": [
        "a=input()\n",
        "b=input()\n",
        "a=float(a)\n",
        "b=float(b)\n",
        "print(a*b)"
      ],
      "metadata": {
        "id": "qBTZMEdAJcsN"
      },
      "execution_count": null,
      "outputs": []
    },
    {
      "cell_type": "markdown",
      "source": [
        "4.연산 7번<p>\n",
        "나누기 관련 연산자는 3개 있습니다.<p>\n",
        "몫 : //<p>\n",
        "나머지 : %<p>\n",
        "나눗셈 : /<p>\n",
        "이며 정수 끼리의 몫과 나머지는 정수가 나오며<p>\n",
        "파이썬에서 나눗셈은 무.조.건. 실수(소수점이 있는 숫자)입니다."
      ],
      "metadata": {
        "id": "JRIkSTXqJmNZ"
      }
    },
    {
      "cell_type": "code",
      "source": [
        "a,b=input().split()\n",
        "a=int(a)\n",
        "b=int(b)\n",
        "print(a//b)"
      ],
      "metadata": {
        "id": "BPUXGUgvJ_YQ"
      },
      "execution_count": null,
      "outputs": []
    },
    {
      "cell_type": "markdown",
      "source": [
        "4. 연산 8번<p>\n",
        "나머지는 %로 계산합니다."
      ],
      "metadata": {
        "id": "_KDMXrY-KErw"
      }
    },
    {
      "cell_type": "code",
      "source": [
        "a,b=input().split()\n",
        "print(int(a)%int(b))"
      ],
      "metadata": {
        "id": "Cfcm44BfKI-a"
      },
      "execution_count": null,
      "outputs": []
    },
    {
      "cell_type": "markdown",
      "source": [
        "4. 연산 9번<p>\n",
        "소수점이 나오는 연산에는 거의 필수적으로 반올림을 사용합니다.<p>\n",
        "나눗셈(/)은 반.드.시. 결과가 소수점이 나오므로 반올림을 무.조.건. 한다고 생각하면 편합니다.<p>\n",
        "반올림하는 명령은<p>\n",
        "rount()로 반올림하는 값, 반올림하는 자릿수 정보 가 필요합니다.<p>\n",
        "자세한 설명은 동영상을 참고하세요."
      ],
      "metadata": {
        "id": "T5ByPhhwKSHr"
      }
    },
    {
      "cell_type": "code",
      "source": [
        "a=input()\n",
        "a=float(a)\n",
        "print(round(a,2))"
      ],
      "metadata": {
        "id": "DlOpu_UiKv5P"
      },
      "execution_count": null,
      "outputs": []
    },
    {
      "cell_type": "markdown",
      "source": [
        "4. 연산 10번<p>\n",
        "나눗셈은 값/값이고 무.조.건. 반올림을 하세요."
      ],
      "metadata": {
        "id": "nfwjCm_wK5ru"
      }
    },
    {
      "cell_type": "code",
      "source": [
        "a=input()\n",
        "b=input()\n",
        "a=int(a)\n",
        "b=int(b)\n",
        "print(round(a/b,3))"
      ],
      "metadata": {
        "id": "oQ3jlINoLB81"
      },
      "execution_count": null,
      "outputs": []
    },
    {
      "cell_type": "markdown",
      "source": [
        "4. 연산 11번<p>\n",
        "지금까지 배운 연산자를 다 사용하는 문제입니다."
      ],
      "metadata": {
        "id": "WsYp_wT1LRrN"
      }
    },
    {
      "cell_type": "code",
      "source": [
        "a,b=input().split()\n",
        "a=int(a)\n",
        "b=int(b)\n",
        "print(a+b)\n",
        "print(a-b)\n",
        "print(a*b)\n",
        "print(a//b)\n",
        "print(a%b)\n",
        "print(round(a/b,2))"
      ],
      "metadata": {
        "id": "D66v4Ns5LMfh"
      },
      "execution_count": null,
      "outputs": []
    },
    {
      "cell_type": "markdown",
      "source": [
        "4. 연산 12번<p>\n",
        "세 정수 a,b,c의 평균은<p>\n",
        "(a+b+c)/3<p>\n",
        "입니다."
      ],
      "metadata": {
        "id": "FR2qoEfcLiyN"
      }
    },
    {
      "cell_type": "code",
      "source": [
        "a,b,c=input().split()\n",
        "a=int(a)\n",
        "b=int(b)\n",
        "c=int(c)\n",
        "print(a+b+c,round((a+b+c)/3,2))"
      ],
      "metadata": {
        "id": "Uw8xTSSML1_a"
      },
      "execution_count": null,
      "outputs": []
    },
    {
      "cell_type": "markdown",
      "source": [
        "이 문제의 코드를 조금 더 깔끔하게 작성하면"
      ],
      "metadata": {
        "id": "bOeAvYPjMFj1"
      }
    },
    {
      "cell_type": "code",
      "source": [
        "a,b,c=input().split()\n",
        "a=int(a)\n",
        "b=int(b)\n",
        "c=int(c)\n",
        "s=a+b+c\n",
        "print(s,round(s/3,2))"
      ],
      "metadata": {
        "id": "J-kc0fdPMKMG"
      },
      "execution_count": null,
      "outputs": []
    },
    {
      "cell_type": "markdown",
      "source": [
        "4. 연산 13번<p>\n",
        "문자열의 곱셈은<p>\n",
        "\"문자열\"&#42;자연수<p>\n",
        "혹은 자연수&#42;\"문자열\" 입니다."
      ],
      "metadata": {
        "id": "qL1_yuBRMUj5"
      }
    },
    {
      "cell_type": "code",
      "source": [
        "a,b=input().split()\n",
        "a=int(a)\n",
        "print(a*b)"
      ],
      "metadata": {
        "id": "iymsqMqyNguI"
      },
      "execution_count": null,
      "outputs": []
    }
  ]
}